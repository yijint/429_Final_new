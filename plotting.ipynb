{
 "cells": [
  {
   "cell_type": "markdown",
   "id": "c01aa7fe-87d7-4fb4-86ce-5257b246494c",
   "metadata": {},
   "source": [
    "# Plotting the graphs for analysis"
   ]
  },
  {
   "cell_type": "markdown",
   "id": "81370b0d-1e62-4e2d-9b09-abd81d52397c",
   "metadata": {},
   "source": [
    "## Directory Path"
   ]
  },
  {
   "cell_type": "code",
   "execution_count": 1,
   "id": "e523da14-6675-48f4-ad5d-688cc4416d8d",
   "metadata": {},
   "outputs": [],
   "source": [
    "dr_path = '/scratch/network/hishimwe/'"
   ]
  },
  {
   "cell_type": "markdown",
   "id": "c3c1ff82-0180-4b94-accd-d51f5aaa311b",
   "metadata": {},
   "source": [
    "## Choose the type of model you are plotting"
   ]
  },
  {
   "cell_type": "code",
   "execution_count": 2,
   "id": "5d8afcd0-efa5-4a25-8812-8b464ebffc7f",
   "metadata": {},
   "outputs": [],
   "source": [
    "graph = 'losses'"
   ]
  },
  {
   "cell_type": "markdown",
   "id": "dcd4ed37-fe77-47d5-84a7-8f9eedd24149",
   "metadata": {},
   "source": [
    "## Name of the model"
   ]
  },
  {
   "cell_type": "code",
   "execution_count": 3,
   "id": "69e19af0-0d9e-4f79-bf35-6f2858af42d6",
   "metadata": {},
   "outputs": [],
   "source": [
    "model = '30epochs_l2_lr_0.1_wd_1e-07'"
   ]
  },
  {
   "cell_type": "markdown",
   "id": "a7de9cb0-656a-4782-a4f9-abde6e068846",
   "metadata": {},
   "source": [
    "## Full Path"
   ]
  },
  {
   "cell_type": "code",
   "execution_count": 4,
   "id": "43cd98ff-c7d5-464d-a2bd-1e0870692fc1",
   "metadata": {},
   "outputs": [
    {
     "name": "stdout",
     "output_type": "stream",
     "text": [
      "/scratch/network/hishimwe/losses/train/train_30epochs_l2_lr_0.1_wd_1e-07\n",
      "/scratch/network/hishimwe/losses/val/val_30epochs_l2_lr_0.1_wd_1e-07\n"
     ]
    }
   ],
   "source": [
    "train_path = dr_path + graph + '/train/train_' + model\n",
    "val_path = dr_path + graph + '/val/val_' + model\n",
    "\n",
    "print(train_path)\n",
    "print(val_path)"
   ]
  },
  {
   "cell_type": "markdown",
   "id": "cbe7b1c8-cb8a-4508-bbaa-1b45fee6cfc1",
   "metadata": {},
   "source": [
    "## Graph name"
   ]
  },
  {
   "cell_type": "code",
   "execution_count": 5,
   "id": "746675e2-428f-45ba-88f7-f3abbae11ae6",
   "metadata": {},
   "outputs": [
    {
     "name": "stdout",
     "output_type": "stream",
     "text": [
      "losses_30epochs_l2_lr_0.1_wd_1e-07.png\n",
      "graphs/losses/losses_30epochs_l2_lr_0.1_wd_1e-07.png\n"
     ]
    }
   ],
   "source": [
    "name = graph + '_' + model + \".png\"\n",
    "saving_path = 'graphs/' + graph + \"/\" + name\n",
    "\n",
    "print(name)\n",
    "print(saving_path)"
   ]
  },
  {
   "cell_type": "code",
   "execution_count": 6,
   "id": "cab0d87c-c453-46ac-b6e4-ac531047c97c",
   "metadata": {},
   "outputs": [],
   "source": [
    "## For losses and accuracies plots \n",
    "def plotting_1(graph_type, train_path, val_path, graph_path):\n",
    "    # axis labels and title\n",
    "    title = ''\n",
    "    y_label = ''\n",
    "    if graph_type == 'losses':\n",
    "        title = \"Training and Validation Losses\"\n",
    "        y_label = \"Loss\"\n",
    "    elif graph_type == 'accuracies':\n",
    "        title = \"Training and Validation Accuracies\"\n",
    "        y_label = \"Accuracy\"\n",
    "    \n",
    "    # training\n",
    "    file_train = open(train_path,'r')\n",
    "    loss_train = file_train.readlines()\n",
    "    loss_train = np.array(loss_train) \n",
    "    loss_train = np.asfarray(loss_train, dtype=float) # converting to floats\n",
    "\n",
    "    # validation\n",
    "    file_val = open(val_path,'r')\n",
    "    loss_val = file_val.readlines()\n",
    "    loss_val = np.array(loss_val) \n",
    "    loss_val = np.asfarray(loss_val, dtype=float) # converting to floats\n",
    "\n",
    "    epochs = np.arange(len(loss_train)) # number of epochs run\n",
    "\n",
    "    plt.plot(epochs, loss_train, color=\"blue\", label=\"Train\" + y_label)\n",
    "    plt.plot(epochs, loss_val, color=\"green\", label=\"Validation\" + y_label)\n",
    "    print(title)\n",
    "    plt.title(title)\n",
    "    plt.xlabel(\"Epochs\")\n",
    "    plt.ylabel(y_label)\n",
    "    if graph_type == 'losses':\n",
    "        plt.ylim((0,8)) # CHANGE THIS IF THE Y AXIS IS TOO SHORT\n",
    "    elif graph_type == 'accuracies': \n",
    "        plt.ylim((0,1))\n",
    "    plt.legend()\n",
    "    plt.savefig(graph_path)\n",
    "    plt.show()"
   ]
  },
  {
   "cell_type": "code",
   "execution_count": 7,
   "id": "e16999ab-b3d9-428a-9e5f-d89a43a75e3c",
   "metadata": {},
   "outputs": [],
   "source": [
    "## For Average_precision plots\n",
    "def plotting_2(train_path, val_path, graph_path):\n",
    "    # training \n",
    "    file_train = open(train_path,'r')\n",
    "    prec_train = file_train.readlines()\n",
    "\n",
    "    num_epochs = len(prec_train)\n",
    "    avg_precisions_train = np.zeros((num_epochs,))\n",
    "\n",
    "    for i in range(num_epochs):\n",
    "        l = np.array(prec_train[i].split(\",\")) # separate the values\n",
    "        l = np.asfarray(l, dtype=float) # convert to floats\n",
    "        avg_precisions_train[i] = np.average(l) # save average\n",
    "\n",
    "\n",
    "    # validation\n",
    "    file_val = open(val_path,'r')\n",
    "    prec_val = file_val.readlines()\n",
    "\n",
    "    avg_precisions_val = np.zeros((num_epochs,))\n",
    "\n",
    "    for i in range(num_epochs):\n",
    "        l = np.array(prec_val[i].split(\",\")) # separate the values\n",
    "        l = np.asfarray(l, dtype=float) # convert to floats\n",
    "        avg_precisions_val[i] = np.average(l) # save average\n",
    "\n",
    "    epochs = np.arange(num_epochs) # number of epochs run\n",
    "\n",
    "    plt.plot(epochs, avg_precisions_train, color=\"b\", label=\"Train Average Precision\")\n",
    "    plt.plot(epochs, avg_precisions_val, color=\"green\", label=\"Validation Average Precision\")\n",
    "    plt.title(\"Training and Validation Average Precisions\")\n",
    "    plt.xlabel(\"Epochs\")\n",
    "    plt.ylabel(\"Average Precisions\")\n",
    "    plt.ylim((0,1))\n",
    "    plt.legend()\n",
    "    plt.savefig(graph_path)\n",
    "    plt.show()"
   ]
  },
  {
   "cell_type": "markdown",
   "id": "19b4b20a-dd76-4eae-a5a9-041c111de7bd",
   "metadata": {
    "tags": []
   },
   "source": [
    "## Graphing"
   ]
  },
  {
   "cell_type": "code",
   "execution_count": 8,
   "id": "df447b32-0ee0-4f5b-85ad-9af6ad379bc3",
   "metadata": {},
   "outputs": [],
   "source": [
    "import numpy as np\n",
    "import matplotlib.pyplot as plt "
   ]
  },
  {
   "cell_type": "code",
   "execution_count": 9,
   "id": "d8140221-a8a8-406e-a61d-0109be44fd83",
   "metadata": {},
   "outputs": [
    {
     "name": "stdout",
     "output_type": "stream",
     "text": [
      "Training and Validation Losses\n"
     ]
    },
    {
     "data": {
      "image/png": "[encoded data removed]",
      "text/plain": [
       "<Figure size 640x480 with 1 Axes>"
      ]
     },
     "metadata": {},
     "output_type": "display_data"
    }
   ],
   "source": [
    "if graph == 'precisions':\n",
    "    plotting_2(train_path, val_path, graph_path = saving_path)\n",
    "else:\n",
    "    plotting_1(graph_type = graph, train_path = train_path, val_path = val_path, graph_path = saving_path)"
   ]
  }
 ],
 "metadata": {
  "kernelspec": {
   "display_name": "cos429",
   "language": "python",
   "name": "cos429"
  },
  "language_info": {
   "codemirror_mode": {
    "name": "ipython",
    "version": 3
   },
   "file_extension": ".py",
   "mimetype": "text/x-python",
   "name": "python",
   "nbconvert_exporter": "python",
   "pygments_lexer": "ipython3",
   "version": "3.8.16"
  }
 },
 "nbformat": 4,
 "nbformat_minor": 5
}
