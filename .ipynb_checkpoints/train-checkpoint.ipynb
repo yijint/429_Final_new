{
 "cells": [
  {
   "cell_type": "markdown",
   "id": "b9283810-1cc3-400b-ab0d-2b29ad77917f",
   "metadata": {},
   "source": [
    "### Training with augmentation\n",
    "Code taken from: https://github.com/piergiaj/pytorch-i3d/blob/master/train_i3d.py \n",
    "\n",
    "Note: This code was written for PyTorch 0.3. Version 0.4 and newer may cause issues."
   ]
  },
  {
   "cell_type": "markdown",
   "id": "67128774-f5f4-4d89-b3d5-4c85f713aa43",
   "metadata": {},
   "source": [
    "# TO CHANGE BEFORE RUNNING"
   ]
  },
  {
   "cell_type": "markdown",
   "id": "67fa6755-2c81-43a1-babb-bbf7a9b06049",
   "metadata": {},
   "source": [
    "Set `augment = True` below for data to be augmented, and `false` otherwise."
   ]
  },
  {
   "cell_type": "code",
   "execution_count": 1,
   "id": "cab0d1df-93a0-496a-be83-a4457fcb27ff",
   "metadata": {},
   "outputs": [],
   "source": [
    "is_augment = False"
   ]
  },
  {
   "cell_type": "markdown",
   "id": "6545d57e-3f63-4b62-bc1e-9d2851b1b5b1",
   "metadata": {},
   "source": [
    "Set `dropout = True` below for dropout to be included, and `false` otherwise."
   ]
  },
  {
   "cell_type": "code",
   "execution_count": 2,
   "id": "372efd7e-a5fa-4ef7-8424-031cac6e06c7",
   "metadata": {},
   "outputs": [],
   "source": [
    "is_dropout = False"
   ]
  },
  {
   "cell_type": "markdown",
   "id": "312626af-a931-43f6-95e3-0ee7bcd579ba",
   "metadata": {},
   "source": [
    "Dropout details:"
   ]
  },
  {
   "cell_type": "code",
   "execution_count": 3,
   "id": "e38fd690-de12-4624-b7cb-b97533b764e2",
   "metadata": {},
   "outputs": [],
   "source": [
    "dropout_details = \"layer1_p0.5\""
   ]
  },
  {
   "cell_type": "markdown",
   "id": "9bcb25f0-c8ea-4005-a5e7-77c10ba30bc5",
   "metadata": {},
   "source": [
    "Learning rate"
   ]
  },
  {
   "cell_type": "code",
   "execution_count": 4,
   "id": "e5377768-37ca-4c3d-bbe1-ecd857c2e29f",
   "metadata": {},
   "outputs": [],
   "source": [
    "learning_rate = 0.1"
   ]
  },
  {
   "cell_type": "markdown",
   "id": "64a9ca81-852e-462a-9724-7fa9a68b4bd0",
   "metadata": {},
   "source": [
    "Set `l2 = True` below for L2 Regularization, and `false` for L1 Regularization."
   ]
  },
  {
   "cell_type": "code",
   "execution_count": 5,
   "id": "52df519f-738c-4688-9604-af1b9ee7ae1d",
   "metadata": {},
   "outputs": [],
   "source": [
    "l2 = True"
   ]
  },
  {
   "cell_type": "markdown",
   "id": "79ead160-da0c-4f59-8cea-602bc2bb3ee9",
   "metadata": {},
   "source": [
    "Set weight decay value, `wd`, for L2 Regularization"
   ]
  },
  {
   "cell_type": "code",
   "execution_count": 6,
   "id": "97b735fc-faa7-4f9a-b1dd-8d0a1cd6507c",
   "metadata": {},
   "outputs": [],
   "source": [
    "wd = 1e-10"
   ]
  },
  {
   "cell_type": "markdown",
   "id": "77f6e4b5-a2ee-4a71-8f7f-369b6f3f8fe1",
   "metadata": {},
   "source": [
    "Set `lambda` for L1 Regularization "
   ]
  },
  {
   "cell_type": "code",
   "execution_count": 7,
   "id": "d4d5779b-0b34-480b-9ede-25a1b2be3379",
   "metadata": {},
   "outputs": [],
   "source": [
    "lambda1 = 1e-2"
   ]
  },
  {
   "cell_type": "markdown",
   "id": "dfa3722c-e670-46eb-89a3-859e03390432",
   "metadata": {},
   "source": [
    "Set the number of epochs in training:"
   ]
  },
  {
   "cell_type": "code",
   "execution_count": 8,
   "id": "a3eaf339-b4ae-412b-b65b-08cc7ab449a7",
   "metadata": {},
   "outputs": [],
   "source": [
    "num_epochs = 30"
   ]
  },
  {
   "cell_type": "markdown",
   "id": "58eb3dec-622d-493a-8a80-087b06ee59ef",
   "metadata": {},
   "source": [
    "**ALL FILES INCLUDING LOSSES AND THE MODEL WILL BE SAVED WITH THIS NAME:**"
   ]
  },
  {
   "cell_type": "code",
   "execution_count": 9,
   "id": "3ebacd34-bfbe-4236-b858-07ce0a997dee",
   "metadata": {},
   "outputs": [],
   "source": [
    "# \"30epochs_wd_1e-07_dropout__augmented\" means the there are 30 training epochs, weight decay is 1e-07, and that there is dropout and augmentation\n",
    "save_name = f\"{num_epochs}epochs\"\n",
    "if (not l2): save_name = save_name + \"_l1_lr_\" + str(learning_rate) + \"_ld_\" + str(lambda1) # l1 regularization\n",
    "if l2: save_name = save_name + \"_l2_lr_\" + str(learning_rate) + \"_wd_\"+ str(wd) # l2 regularization\n",
    "if is_dropout: save_name = save_name + \"_dropout_\"+dropout_details\n",
    "if is_augment: save_name = save_name + \"_augment\""
   ]
  },
  {
   "cell_type": "code",
   "execution_count": 10,
   "id": "aa088af0-9405-41a6-955d-278875749c27",
   "metadata": {},
   "outputs": [
    {
     "data": {
      "text/plain": [
       "'30epochs_l2_lr_0.1_wd_1e-10'"
      ]
     },
     "execution_count": 10,
     "metadata": {},
     "output_type": "execute_result"
    }
   ],
   "source": [
    "# check save_name\n",
    "save_name"
   ]
  },
  {
   "cell_type": "markdown",
   "id": "b101df8e-6057-4886-a05e-e531d843ee0b",
   "metadata": {},
   "source": [
    "# CODE"
   ]
  },
  {
   "cell_type": "markdown",
   "id": "ae6501e6-193d-4edf-a388-1ea00a5a9f81",
   "metadata": {},
   "source": [
    "Import packages"
   ]
  },
  {
   "cell_type": "code",
   "execution_count": 11,
   "id": "56422195-b081-4f3d-8b9a-8d541d0bad5c",
   "metadata": {},
   "outputs": [],
   "source": [
    "import os\n",
    "from sklearn.metrics import accuracy_score, f1_score, confusion_matrix, precision_score\n",
    "os.environ[\"CUDA_DEVICE_ORDER\"]=\"PCI_BUS_ID\"   \n",
    "os.environ[\"CUDA_VISIBLE_DEVICES\"]='3'\n",
    "# os.environ[\"PYTORCH_CUDA_ALLOC_CONF\"] = \"max_split_size_mb:<1024>\"\n",
    "import sys\n",
    "import argparse\n",
    "import torch\n",
    "import torch.nn as nn\n",
    "import torch.nn.functional as F\n",
    "import torch.optim as optim\n",
    "from torch.optim import lr_scheduler\n",
    "from torch.autograd import Variable\n",
    "import torchvision\n",
    "from torchvision import datasets, transforms\n",
    "import numpy as np\n",
    "from pytorch_i3d import InceptionI3d\n",
    "import numpy as np\n",
    "import glob\n",
    "import random\n",
    "from tensorboardX import SummaryWriter\n",
    "from preprocess import run_preprocessing, get_action, holdout_set\n",
    "import time\n",
    "import matplotlib.pyplot as plt\n",
    "import pandas as pd\n",
    "from collections import Counter\n",
    "from PIL import Image, ImageSequence\n",
    "\n",
    "# video augmentation scripts (c) 2018 okankop\n",
    "from vidaug import *"
   ]
  },
  {
   "cell_type": "markdown",
   "id": "d266b6f0-d337-4648-b968-9764891edef7",
   "metadata": {},
   "source": [
    "Construct a dataset class for training the model:"
   ]
  },
  {
   "cell_type": "code",
   "execution_count": 12,
   "id": "4a76d20a-aa79-438d-95f9-b62477c305b3",
   "metadata": {},
   "outputs": [],
   "source": [
    "class dataset(torch.utils.data.Dataset):\n",
    "    \n",
    "    def __init__(self, paths, v_names, v_labels, num_samples=16, transforms=None): # num_samples cannot be lower than 16\n",
    "        self.num_samples = num_samples\n",
    "        self.frames = dict()\n",
    "        for p in paths:\n",
    "            self.frames[p] = sorted(glob.glob(p+\"/*.jpg\"))\n",
    "        self.data = paths\n",
    "        self.video_names = v_names\n",
    "        self.video_labels = v_labels\n",
    "        self.transforms = transforms\n",
    "    \n",
    "    def __getitem__(self, idx):\n",
    "        # get original video\n",
    "        p = self.data[idx]\n",
    "        \n",
    "        # sample frames uniformly and create newly sampled video \n",
    "        num_frames = len(self.frames[p])-1\n",
    "        sampled_idx = np.linspace(0, num_frames, self.num_samples) #get num_samples frames from the video\n",
    "        images = []\n",
    "        index = np.where(self.video_names == p.split('/')[-1]) #index of p's video name in video_names\n",
    "        label_video = self.video_labels[index] # the labels for the video\n",
    "        for i in sampled_idx:\n",
    "            image = torchvision.io.read_image(self.frames[p][int(i)])\n",
    "            small_dim = min(image.shape[-2:])\n",
    "            image = torchvision.transforms.functional.center_crop(image, (small_dim, small_dim))\n",
    "            image = torchvision.transforms.functional.resize(image, (224, 224), antialias=True)\n",
    "            images.append(image)\n",
    "        images = torch.stack(images, axis=1)\n",
    "        \n",
    "        # data augmentation \n",
    "        if (self.transforms is not None):\n",
    "            images = np.array(self.transforms(images.numpy()))\n",
    "            # normalize\n",
    "            images = (images/255)*2 - 1 # values are between -1 and 1\n",
    "            return torch.from_numpy(images).type(torch.FloatTensor), label_video \n",
    "        \n",
    "        else: \n",
    "            images = (images/255)*2 - 1 #values are between -1 and 1\n",
    "            return images, label_video \n",
    "\n",
    "    def __len__(self):\n",
    "        return len(self.data)"
   ]
  },
  {
   "cell_type": "markdown",
   "id": "861a4e60-ed8f-4fb4-bb3f-26b5300ece4f",
   "metadata": {},
   "source": [
    "Build transformations for data augmentation"
   ]
  },
  {
   "cell_type": "code",
   "execution_count": 13,
   "id": "58b94045-a2a3-44a7-80b6-6d4ff67e04d1",
   "metadata": {},
   "outputs": [],
   "source": [
    "if is_augment:\n",
    "    sometimes = lambda aug: Sometimes(0.4, aug) # Used to apply augmentor with 40% probability\n",
    "    rand_aug = SomeOf([ # randomly chooses two of the following augmentation methods \n",
    "        RandomRotate(degrees=10), # randomly rotates the video with a degree randomly choosen from [-10, 10] \n",
    "        RandomTranslate(x=40,y=20), # randomly shifting video in [-x, +x] and [-y, +y] coordinate\n",
    "        RandomShear(x=0.2,y=0.1), # randomly shearing video in [-x, +x] and [-y, +y] directions.\n",
    "        sometimes(HorizontalFlip()), # horizontally flip the video with 50% probability\n",
    "        sometimes(GaussianBlur(sigma=random.uniform(0.5,4))), # blur images using gaussian kernels with std. dev. = sigma\n",
    "        sometimes(ElasticTransformation(alpha=random.uniform(0,5), cval=int(random.uniform(0,255)), mode=\"nearest\")), # moving pixels locally around using displacement fields\n",
    "        sometimes(PiecewiseAffineTransform(displacement=15, displacement_kernel=1, displacement_magnification=1)), # places a regular grid of points on an image and randomly moves the neighbourhood of these point around via affine transformations\n",
    "        sometimes(Add(value=int(random.uniform(-100,100)))), # add a value to all pixel intesities in an video\n",
    "        sometimes(Multiply(value=2)), # multiply all pixel intensities with given value\n",
    "        sometimes(Multiply(value=0.5)), # multiply all pixel intensities with given value\n",
    "        sometimes(Pepper(ratio=25)), # sets a certain fraction of pixel intensities to 0\n",
    "        sometimes(Salt(ratio=25)), # sets a certain fraction of pixel intensities to 255\n",
    "    ], 2) # only select two of the above augmenters each time"
   ]
  },
  {
   "cell_type": "markdown",
   "id": "da4ed965-0b85-44f6-97bc-25383f510cf8",
   "metadata": {},
   "source": [
    "Extract data and labels"
   ]
  },
  {
   "cell_type": "code",
   "execution_count": 14,
   "id": "b5bc4b01-a7b5-4c2a-a7dd-1d1bede0f550",
   "metadata": {},
   "outputs": [],
   "source": [
    "video_train, video_val, label_train, label_val, unique_labels = holdout_set(0.25) #valid names and videos\n",
    "batch_size = 10 # batch size in training\n",
    "num_videos_train = len(video_train)\n",
    "num_videos_val = len(video_val)\n",
    "num_classes = len(set(label_train)) #count unique in labels\n",
    "\n",
    "video_frames_path = \"/scratch/network/hishimwe/image\" \n",
    "# only extract the videos with v_names and v_labels from preprocess.ipynb \n",
    "paths = glob.glob(video_frames_path+\"/*\")\n",
    "random.seed(0)\n",
    "random.shuffle(paths)\n",
    "\n",
    "good_paths_train = list(filter(lambda c: c.split('/')[-1] in video_train, paths)) #should only get path where good video name; not sure if this filtering will work \n",
    "good_paths_val = list(filter(lambda c: c.split('/')[-1] in video_val, paths)) # validation video paths \n",
    "\n",
    "if is_augment: d_train = dataset(paths=good_paths_train, v_names=video_train, v_labels= label_train, transforms=rand_aug)\n",
    "else: d_train = dataset(paths=good_paths_train, v_names=video_train, v_labels= label_train)\n",
    "d_val = dataset(paths=good_paths_val, v_names=video_val, v_labels= label_val)\n",
    "\n",
    "loader_train = torch.utils.data.DataLoader(d_train, shuffle=True, batch_size=batch_size, drop_last=False, num_workers=4)\n",
    "loader_val = torch.utils.data.DataLoader(d_val, shuffle=True, batch_size=batch_size, drop_last=False, num_workers=4)"
   ]
  },
  {
   "cell_type": "markdown",
   "id": "a9aef6b0-74db-4430-b114-ff98293d9c23",
   "metadata": {},
   "source": [
    "Construct the model:"
   ]
  },
  {
   "cell_type": "code",
   "execution_count": 15,
   "id": "08457ac6-617e-4be4-a690-7970a8760b14",
   "metadata": {},
   "outputs": [
    {
     "name": "stdout",
     "output_type": "stream",
     "text": [
      "time taken: 0.9524366855621338 seconds\n"
     ]
    }
   ],
   "source": [
    "start_time = time.time() \n",
    "i3d = InceptionI3d(400, in_channels=3) # first input is num_classes in kinetics, this is replaced with replace_logits\n",
    "\n",
    "if is_dropout: i3d.load_state_dict(torch.load('rgb_imagenet.pt'), strict=False) #added strict = false; theoretically this lets us add layers\n",
    "else: i3d.load_state_dict(torch.load('rgb_imagenet.pt')) \n",
    "\n",
    "i3d.replace_logits(num_classes)\n",
    "i3d.cuda()\n",
    "\n",
    "print(f\"time taken: {time.time()-start_time} seconds\")"
   ]
  },
  {
   "cell_type": "markdown",
   "id": "fc2c9861-1c82-4c7b-a38d-ae5c9f609ee3",
   "metadata": {},
   "source": [
    "Function to evaluate model performance:"
   ]
  },
  {
   "cell_type": "code",
   "execution_count": 16,
   "id": "97a26778",
   "metadata": {},
   "outputs": [],
   "source": [
    "#returns accuracy, f1 score, average f1, and confusion matrix for the data\n",
    "def eval_metrics(ground_truth, predictions, num_classes):\n",
    "\n",
    "    #dictionary containing the accuracy, precision, f1, avg f1, and confusion matrix for the data\n",
    "    f1 = f1_score(y_true=ground_truth, y_pred=predictions, labels=np.arange(num_classes), average=None)\n",
    "    metrics = {\n",
    "        \"accuracy\": accuracy_score(y_true=ground_truth, y_pred=predictions),\n",
    "        \"f1\": f1,\n",
    "        \"average f1\": np.mean(f1),\n",
    "        \"confusion matrix\": confusion_matrix(y_true=ground_truth, y_pred=predictions, labels=np.arange(num_classes)),\n",
    "        \"precision\": precision_score(y_true=ground_truth, y_pred=predictions, labels=np.arange(num_classes), average=None)\n",
    "        }\n",
    "    \n",
    "    return metrics"
   ]
  },
  {
   "cell_type": "markdown",
   "id": "cff9bb17-34d0-4a24-81c1-e9416b9f786e",
   "metadata": {},
   "source": [
    "Function to train and validate:"
   ]
  },
  {
   "cell_type": "code",
   "execution_count": 17,
   "id": "4bbbdd8b-d941-4760-8c3d-127254351268",
   "metadata": {},
   "outputs": [],
   "source": [
    "def training(model, optimizer, loader, num_classes, reg_type, ld=None):\n",
    "    losses = []\n",
    "    ground_truth = []\n",
    "    predictions = []\n",
    "    for data, label in loader:\n",
    "        data = data.cuda()\n",
    "        label = label.squeeze().type(torch.LongTensor).cuda()\n",
    "        num_frames = data.size(2)\n",
    "        per_frame_logits = i3d(data).mean(2)\n",
    "        preds = per_frame_logits.cpu().detach().numpy().argmax(axis=1) # convert logits into predictions for evaluating accuracy\n",
    "        \n",
    "        # calculate and save loss\n",
    "        loss = F.cross_entropy(per_frame_logits, label)\n",
    "        losses.append(loss.item()) # append to losses\n",
    "        ground_truth.extend(list(label.cpu().detach().numpy()))\n",
    "        predictions.extend(preds.tolist())\n",
    "        \n",
    "        if (not reg_type): # l1 regularization\n",
    "            params = torch.cat([p.view(-1) for p in model.parameters()]) # weights\n",
    "            norm = torch.norm(params, 1)\n",
    "            loss = loss - (ld * norm) # updating loss\n",
    "             \n",
    "        # back propagation    \n",
    "        optimizer.zero_grad()\n",
    "        loss.backward()\n",
    "        optimizer.step()\n",
    "    \n",
    "    metrics = eval_metrics(ground_truth, predictions, num_classes)   \n",
    "    return np.mean(losses), metrics # one loss per epoch and the corresponding metrics        \n"
   ]
  },
  {
   "cell_type": "code",
   "execution_count": 18,
   "id": "e46f5830-e16c-45e1-a740-50dd72575eb3",
   "metadata": {},
   "outputs": [],
   "source": [
    "def evaluate(model, loader, num_classes):\n",
    "    losses = []\n",
    "    ground_truth = []\n",
    "    predictions = []\n",
    "    for data, label in loader:\n",
    "        data = data.cuda()\n",
    "        label = label.squeeze().type(torch.LongTensor).cuda()\n",
    "        num_frames = data.size(2)\n",
    "        per_frame_logits = i3d(data).mean(2)\n",
    "        preds = per_frame_logits.cpu().detach().numpy().argmax(axis=1) # convert logits into predictions for evaluating accuracy\n",
    "        \n",
    "        # calculate and save loss\n",
    "        loss = F.cross_entropy(per_frame_logits, label)\n",
    "        losses.append(loss.item()) # append to losses\n",
    "        ground_truth.extend(list(label.cpu().detach().numpy()))\n",
    "        predictions.extend(preds.tolist())\n",
    "        \n",
    "    metrics = eval_metrics(ground_truth, predictions, num_classes)\n",
    "    return np.mean(losses), metrics # one loss per epoch and the corresponding metrics\n",
    "    "
   ]
  },
  {
   "cell_type": "markdown",
   "id": "7115a97f-cced-4e12-b383-46e7231c715a",
   "metadata": {},
   "source": [
    "Train"
   ]
  },
  {
   "cell_type": "code",
   "execution_count": null,
   "id": "dac52e08-f69e-47a4-ac7b-bedf0c8d70ed",
   "metadata": {
    "tags": []
   },
   "outputs": [
    {
     "name": "stdout",
     "output_type": "stream",
     "text": [
      "EPOCH 0\n",
      "TRAINING\n",
      "Loss 2.177376237602445\n",
      "Accuracy 0.2875381626422426\n",
      "Precision [0.07142857 0.         0.37411972 0.         0.22783083 0.21666667\n",
      " 0.15918367 0.23913043 0.3215859  0.14814815 0.43727599]\n",
      "VALIDATION\n",
      "Loss 1.9116446114768666\n",
      "Accuracy 0.37271214642262895\n",
      "Precision [0.         0.         0.50377834 0.         0.31111111 0.39393939\n",
      " 0.16666667 0.25       0.62903226 0.16666667 0.33695652]\n",
      "Time taken for epoch 0: 3.742797271410624 mins\n",
      "-----------------------------------------------------------------------\n",
      "EPOCH 1\n"
     ]
    },
    {
     "name": "stderr",
     "output_type": "stream",
     "text": [
      "/home/hishimwe/.conda/envs/cos429/lib/python3.8/site-packages/sklearn/metrics/_classification.py:1344: UndefinedMetricWarning: Precision is ill-defined and being set to 0.0 in labels with no predicted samples. Use `zero_division` parameter to control this behavior.\n",
      "  _warn_prf(average, modifier, msg_start, len(result))\n"
     ]
    },
    {
     "name": "stdout",
     "output_type": "stream",
     "text": [
      "TRAINING\n",
      "Loss 1.8072564646477844\n",
      "Accuracy 0.3993893977241188\n",
      "Precision [0.175      0.         0.5075188  0.0625     0.28940217 0.35828877\n",
      " 0.2519084  0.30460922 0.62443439 0.38961039 0.55925926]\n",
      "VALIDATION\n",
      "Loss 1.726477937264876\n",
      "Accuracy 0.42678868552412647\n",
      "Precision [0.         0.         0.60479042 0.         0.49462366 0.22741433\n",
      " 0.30172414 0.35294118 0.6835443  0.32894737 0.73170732]\n",
      "Time taken for epoch 1: 3.7373080333073934 mins\n",
      "-----------------------------------------------------------------------\n",
      "EPOCH 2\n"
     ]
    },
    {
     "name": "stderr",
     "output_type": "stream",
     "text": [
      "/home/hishimwe/.conda/envs/cos429/lib/python3.8/site-packages/sklearn/metrics/_classification.py:1344: UndefinedMetricWarning: Precision is ill-defined and being set to 0.0 in labels with no predicted samples. Use `zero_division` parameter to control this behavior.\n",
      "  _warn_prf(average, modifier, msg_start, len(result))\n"
     ]
    },
    {
     "name": "stdout",
     "output_type": "stream",
     "text": [
      "TRAINING\n",
      "Loss 1.6528390119280512\n",
      "Accuracy 0.4507354981959478\n",
      "Precision [0.27272727 0.         0.54672897 0.3        0.35873016 0.34951456\n",
      " 0.37275986 0.34509804 0.69196429 0.33333333 0.65098039]\n"
     ]
    },
    {
     "name": "stderr",
     "output_type": "stream",
     "text": [
      "/home/hishimwe/.conda/envs/cos429/lib/python3.8/site-packages/sklearn/metrics/_classification.py:1344: UndefinedMetricWarning: Precision is ill-defined and being set to 0.0 in labels with no predicted samples. Use `zero_division` parameter to control this behavior.\n",
      "  _warn_prf(average, modifier, msg_start, len(result))\n"
     ]
    },
    {
     "name": "stdout",
     "output_type": "stream",
     "text": [
      "VALIDATION\n",
      "Loss 1.645756261900437\n",
      "Accuracy 0.44093178036605657\n",
      "Precision [0.33333333 0.         0.45824847 0.35       0.49350649 0.375\n",
      " 0.35897436 0.32850242 0.64583333 0.66666667 0.62686567]\n",
      "Time taken for epoch 2: 3.743498770395915 mins\n",
      "-----------------------------------------------------------------------\n",
      "EPOCH 3\n",
      "TRAINING\n",
      "Loss 1.5251612394140037\n",
      "Accuracy 0.4893144601720788\n",
      "Precision [0.27272727 0.125      0.58932238 0.3255814  0.40277778 0.37995338\n",
      " 0.38636364 0.43531828 0.71493213 0.52991453 0.6394052 ]\n",
      "VALIDATION\n",
      "Loss 1.8452082832982717\n",
      "Accuracy 0.4101497504159734\n",
      "Precision [0.         0.         0.45348837 0.         0.32046332 0.27748691\n",
      " 0.46666667 0.57142857 0.88571429 0.30097087 0.67741935]\n",
      "Time taken for epoch 3: 3.741293517748515 mins\n",
      "-----------------------------------------------------------------------\n",
      "EPOCH 4\n"
     ]
    },
    {
     "name": "stderr",
     "output_type": "stream",
     "text": [
      "/home/hishimwe/.conda/envs/cos429/lib/python3.8/site-packages/sklearn/metrics/_classification.py:1344: UndefinedMetricWarning: Precision is ill-defined and being set to 0.0 in labels with no predicted samples. Use `zero_division` parameter to control this behavior.\n",
      "  _warn_prf(average, modifier, msg_start, len(result))\n"
     ]
    },
    {
     "name": "stdout",
     "output_type": "stream",
     "text": [
      "TRAINING\n",
      "Loss 1.421807022471177\n",
      "Accuracy 0.5281709686372468\n",
      "Precision [0.3539823  0.45454545 0.61706556 0.37142857 0.44992051 0.40566038\n",
      " 0.46712803 0.4679089  0.76763485 0.50746269 0.64664311]\n",
      "VALIDATION\n",
      "Loss 1.579698558188667\n",
      "Accuracy 0.49417637271214643\n",
      "Precision [0.33333333 0.25       0.63311688 0.42857143 0.35       0.33939394\n",
      " 0.54166667 0.4921875  0.69318182 0.44262295 0.49122807]\n",
      "Time taken for epoch 4: 3.7417317310969036 mins\n",
      "-----------------------------------------------------------------------\n",
      "EPOCH 5\n",
      "TRAINING\n",
      "Loss 1.2768532132673132\n",
      "Accuracy 0.5731334998612267\n",
      "Precision [0.4        0.27777778 0.67429194 0.45098039 0.47474747 0.45475113\n",
      " 0.56230032 0.54623656 0.77290837 0.55782313 0.6292517 ]\n",
      "VALIDATION\n",
      "Loss 1.655060145973174\n",
      "Accuracy 0.4525790349417637\n",
      "Precision [0.2826087  0.2        0.68888889 0.6        0.31226766 0.30645161\n",
      " 0.57377049 0.39920949 0.95238095 0.6875     0.5952381 ]\n",
      "Time taken for epoch 5: 3.753821531931559 mins\n",
      "-----------------------------------------------------------------------\n",
      "EPOCH 6\n",
      "TRAINING\n",
      "Loss 1.1742503458112892\n",
      "Accuracy 0.6039411601443242\n",
      "Precision [0.50406504 0.28571429 0.68668122 0.48837209 0.51480263 0.52882206\n",
      " 0.6038961  0.55959596 0.77419355 0.52941176 0.68512111]\n",
      "VALIDATION\n",
      "Loss 1.648737903468865\n",
      "Accuracy 0.4700499168053245\n",
      "Precision [0.27272727 0.         0.67489712 0.23913043 0.34375    0.32258065\n",
      " 0.72222222 0.40384615 0.75324675 0.34513274 0.703125  ]\n",
      "Time taken for epoch 6: 3.725812606016795 mins\n",
      "-----------------------------------------------------------------------\n",
      "EPOCH 7\n"
     ]
    }
   ],
   "source": [
    "# set up gradient descent params\n",
    "\n",
    "if (l2): # l2 regularization \n",
    "    optimizer = optim.SGD(i3d.parameters(), lr=learning_rate, momentum=0.9, weight_decay=wd) # weight_decay = l2 regularization\n",
    "    lr_sched = optim.lr_scheduler.MultiStepLR(optimizer, [300, 1000])\n",
    "else: # l1 regularization\n",
    "    optimizer = optim.SGD(i3d.parameters(), lr=learning_rate, momentum=0.9) \n",
    "    lr_sched = optim.lr_scheduler.MultiStepLR(optimizer, [300, 1000])\n",
    "\n",
    "\n",
    "# save performance\n",
    "train_losses = []\n",
    "train_accuracies = []\n",
    "train_precisions = []\n",
    "val_losses = []\n",
    "val_accuracies = []\n",
    "val_precisions = []\n",
    "\n",
    "# train\n",
    "for e in range(num_epochs):\n",
    "    start_time = time.time()\n",
    "    \n",
    "    print(\"EPOCH\", e)\n",
    "    \n",
    "    # training\n",
    "    loss_train, metrics_train = training(model=i3d, optimizer=optimizer, loader=loader_train, num_classes=num_classes, reg_type=l2, ld=lambda1)\n",
    "    train_losses.append(loss_train)\n",
    "    train_accuracies.append(metrics_train[\"accuracy\"])\n",
    "    train_precisions.append(metrics_train[\"precision\"])\n",
    "    \n",
    "    print(\"TRAINING\")\n",
    "    print(\"Loss\", loss_train)\n",
    "    print(\"Accuracy\", metrics_train[\"accuracy\"])\n",
    "    print(\"Precision\", metrics_train[\"precision\"])\n",
    "    \n",
    "    # validation \n",
    "    loss_val, metrics_val = evaluate(model=i3d, loader=loader_val, num_classes=num_classes)\n",
    "    val_losses.append(loss_val)\n",
    "    val_accuracies.append(metrics_val[\"accuracy\"])\n",
    "    val_precisions.append(metrics_val[\"precision\"])\n",
    "    \n",
    "    print(\"VALIDATION\")\n",
    "    print(\"Loss\", loss_val)\n",
    "    print(\"Accuracy\", metrics_val[\"accuracy\"])\n",
    "    print(\"Precision\", metrics_val[\"precision\"])\n",
    "        \n",
    "    print(f\"Time taken for epoch {e}: {(time.time()-start_time)/60} mins\")\n",
    "    print(\"-----------------------------------------------------------------------\")\n",
    "\n",
    "np.savetxt('/scratch/network/hishimwe/losses/train/train_'+ save_name, np.array(train_losses), delimiter=\",\")\n",
    "np.savetxt('/scratch/network/hishimwe/losses/val/val_' + save_name, np.array(val_losses), delimiter=\",\")\n",
    "\n",
    "np.savetxt('/scratch/network/hishimwe/accuracies/train/train_'+save_name, np.array(train_accuracies), delimiter=\",\")\n",
    "np.savetxt('/scratch/network/hishimwe/accuracies/val/val_'+save_name, np.array(val_accuracies), delimiter=\",\")\n",
    "\n",
    "np.savetxt('/scratch/network/hishimwe/precisions/train/train_'+save_name, np.array(train_precisions), delimiter=\",\")\n",
    "np.savetxt('/scratch/network/hishimwe/precisions/val/val_'+save_name, np.array(val_precisions), delimiter=\",\")"
   ]
  },
  {
   "cell_type": "code",
   "execution_count": null,
   "id": "fbbacae8-cb59-4e82-8f8b-7581ab67c6f1",
   "metadata": {},
   "outputs": [],
   "source": [
    "print(f\"train_losses: {train_losses}\")\n",
    "print(f\"val_losses: {val_losses}\")\n",
    "print(f\"train_accuracies: {train_accuracies}\")\n",
    "print(f\"val_accuracies: {val_accuracies}\")"
   ]
  },
  {
   "cell_type": "markdown",
   "id": "c4dbbf5c-9b13-4545-926a-59c5dcbc0ec3",
   "metadata": {},
   "source": [
    "Save model"
   ]
  },
  {
   "cell_type": "code",
   "execution_count": null,
   "id": "b7409064-503b-4701-9739-636f2636e6c3",
   "metadata": {},
   "outputs": [],
   "source": [
    "model_path = \"/scratch/network/hishimwe/models_trained/\" + save_name \n",
    "torch.save(i3d, model_path)"
   ]
  },
  {
   "cell_type": "markdown",
   "id": "3df4bdf3-f866-4a5a-a02d-be2de8c3cada",
   "metadata": {},
   "source": [
    "Check saved output"
   ]
  },
  {
   "cell_type": "code",
   "execution_count": null,
   "id": "23ba1e1c-03d6-4bf3-b004-2041ecd74a2c",
   "metadata": {
    "tags": []
   },
   "outputs": [],
   "source": [
    "torch.load(model_path)"
   ]
  }
 ],
 "metadata": {
  "kernelspec": {
   "display_name": "cos429",
   "language": "python",
   "name": "cos429"
  },
  "language_info": {
   "codemirror_mode": {
    "name": "ipython",
    "version": 3
   },
   "file_extension": ".py",
   "mimetype": "text/x-python",
   "name": "python",
   "nbconvert_exporter": "python",
   "pygments_lexer": "ipython3",
   "version": "3.8.16"
  }
 },
 "nbformat": 4,
 "nbformat_minor": 5
}
